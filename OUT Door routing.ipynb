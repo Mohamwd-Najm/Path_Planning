{
 "cells": [
  {
   "cell_type": "markdown",
   "metadata": {},
   "source": [
    "# Path Planning\n",
    "## Outdoor Routing"
   ]
  },
  {
   "cell_type": "markdown",
   "metadata": {},
   "source": [
    "## 1- GEO locations for current and distination"
   ]
  },
  {
   "cell_type": "code",
   "execution_count": 1,
   "metadata": {},
   "outputs": [],
   "source": [
    "# import libraries\n",
    "from geopy.geocoders import Nominatim\n",
    "import time\n",
    "from pprint import pprint\n",
    "import requests\n",
    "from ratelimiter import RateLimiter\n",
    "import geopy"
   ]
  },
  {
   "cell_type": "code",
   "execution_count": 2,
   "metadata": {},
   "outputs": [],
   "source": [
    "# set the current location from GPS Module\n",
    "#  29.414932, 30.862395\n",
    "\n",
    "global Curr_long \n",
    "global Curr_lat \n",
    "\n",
    "Curr_long = 29.414932\n",
    "Curr_lat = 30.862395\n"
   ]
  },
  {
   "cell_type": "code",
   "execution_count": null,
   "metadata": {},
   "outputs": [],
   "source": [
    "def set_curr_location(long,lat):\n",
    "    global Curr_long \n",
    "    Curr_long = long\n",
    "    global Curr_lat\n",
    "    Curr_lat = lat\n",
    "\n",
    "def get_curr_location():\n",
    "    global Curr_long  \n",
    "    global Curr_lat\n",
    "    return Curr_long, Curr_lat    "
   ]
  },
  {
   "cell_type": "markdown",
   "metadata": {},
   "source": [
    "### Test"
   ]
  },
  {
   "cell_type": "code",
   "execution_count": 122,
   "metadata": {},
   "outputs": [],
   "source": [
    "\n",
    "set_curr_location(29.408314, 30.865541)\n",
    "#print(Curr_long )"
   ]
  },
  {
   "cell_type": "code",
   "execution_count": 123,
   "metadata": {},
   "outputs": [
    {
     "name": "stdout",
     "output_type": "stream",
     "text": [
      "29.408314\n",
      "30.865541\n",
      "29.408314\n",
      "30.865541\n"
     ]
    }
   ],
   "source": [
    "long, lat = get_curr_location()\n",
    "print(long)\n",
    "print(lat)\n",
    "# or by \n",
    "print(Curr_long)\n",
    "print(Curr_lat)"
   ]
  },
  {
   "cell_type": "markdown",
   "metadata": {},
   "source": [
    "## 2- Set distination\n"
   ]
  },
  {
   "cell_type": "code",
   "execution_count": 124,
   "metadata": {},
   "outputs": [],
   "source": [
    "# set the distination location from GPS Module\n",
    "\n",
    "global dist_long \n",
    "dist_long = 29.414932\n",
    "global dist_lat \n",
    "dist_lat = 30.862395\n",
    "\n",
    "def set_dist_location(long,lat):\n",
    "    global dist_long \n",
    "    dist_long = long\n",
    "    global dist_lat\n",
    "    dist_lat = lat\n",
    "\n",
    "def get_dist_location():\n",
    "    global dist_long  \n",
    "    global dist_lat\n",
    "    return dist_long, dist_lat    "
   ]
  },
  {
   "cell_type": "markdown",
   "metadata": {},
   "source": [
    "### Test"
   ]
  },
  {
   "cell_type": "code",
   "execution_count": 125,
   "metadata": {},
   "outputs": [],
   "source": [
    "set_dist_location(29.412674, 30.876626)"
   ]
  },
  {
   "cell_type": "code",
   "execution_count": 126,
   "metadata": {},
   "outputs": [
    {
     "name": "stdout",
     "output_type": "stream",
     "text": [
      "29.412674\n",
      "30.876626\n"
     ]
    }
   ],
   "source": [
    "long, lat = get_dist_location()\n",
    "print(long)\n",
    "print(lat)"
   ]
  },
  {
   "cell_type": "markdown",
   "metadata": {},
   "source": [
    "## 3- Using directions api"
   ]
  },
  {
   "cell_type": "code",
   "execution_count": 128,
   "metadata": {},
   "outputs": [],
   "source": [
    "def get_directions():\n",
    "    clong, clat = get_curr_location()\n",
    "    dlong, dlat = get_dist_location()\n",
    "    \n",
    "    url = \"https://trueway-directions2.p.rapidapi.com/FindDrivingPath\"\n",
    "    org =\"29.408314, 30.865541\"\n",
    "    dis =\"29.412674, 30.876626\"\n",
    "    querystring = {\"origin\": str(clong)+\",\"+ str(clat) ,\"destination\":str(dlong)+\",\"+ str(dlat)}\n",
    "\n",
    "    headers = {\n",
    "        \"X-RapidAPI-Host\": \"trueway-directions2.p.rapidapi.com\",\n",
    "        \"X-RapidAPI-Key\": \"a5c9d69029mshecf871aedf5feddp11fc8fjsn15ca8e0cec3c\"\n",
    "    }\n",
    "\n",
    "    response = requests.request(\"GET\", url, headers=headers, params=querystring)\n",
    "    \n",
    "    direc = response.text\n",
    "    dir_json = response.json()\n",
    "    list_json = dir_json['route']['steps']\n",
    "    \n",
    "    list ={}\n",
    "\n",
    "    for i in range(len(list_json)):\n",
    "        #print(i)\n",
    "        if i==0:\n",
    "            list['forward']=list_json[i]['distance']\n",
    "            #print('forward')\n",
    "        else:\n",
    "            list[list_json[i]['maneuver']]=list_json[i]['distance']\n",
    "        \n",
    "    return list    \n",
    "        \n",
    "        "
   ]
  },
  {
   "cell_type": "markdown",
   "metadata": {},
   "source": [
    "### Test"
   ]
  },
  {
   "cell_type": "code",
   "execution_count": 129,
   "metadata": {},
   "outputs": [
    {
     "data": {
      "text/plain": [
       "{'forward': 68, 'uturn left': 31, 'turn right': 442, 'roundabout right': 678}"
      ]
     },
     "execution_count": 129,
     "metadata": {},
     "output_type": "execute_result"
    }
   ],
   "source": [
    "get_directions()"
   ]
  },
  {
   "cell_type": "code",
   "execution_count": null,
   "metadata": {},
   "outputs": [],
   "source": []
  }
 ],
 "metadata": {
  "kernelspec": {
   "display_name": "Python 3",
   "language": "python",
   "name": "python3"
  },
  "language_info": {
   "codemirror_mode": {
    "name": "ipython",
    "version": 3
   },
   "file_extension": ".py",
   "mimetype": "text/x-python",
   "name": "python",
   "nbconvert_exporter": "python",
   "pygments_lexer": "ipython3",
   "version": "3.7.6"
  }
 },
 "nbformat": 4,
 "nbformat_minor": 4
}
