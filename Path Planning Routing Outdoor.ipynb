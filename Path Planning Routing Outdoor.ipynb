{
 "cells": [
  {
   "cell_type": "markdown",
   "metadata": {},
   "source": [
    "# Path Planning\n",
    "## Outdoor Routing"
   ]
  },
  {
   "cell_type": "markdown",
   "metadata": {},
   "source": [
    "### Instructions:\n",
    "\n",
    "- first get the your `current location` (latitude and longitude) \n",
    "- then, set them by using `set_curr_location(long,lat)` function\n",
    "- then, you can set your distnation location by using `set_dist_location(long,lat)` function\n",
    "- after that use the function: `get_directions()` without any parameters and it will get the direstion and the distance from your location untill reach the distnation.\n",
    "- finally call the function: `converting_list(list)` and pass the output list from the previous one and its output will be the final instraction which will be sent to the embedded system directly. \n",
    "\n",
    "### bouns functions:\n",
    "- `get_curr_location()` which return your current location\n",
    "- `get_dist_location()` which return your distination location"
   ]
  },
  {
   "cell_type": "markdown",
   "metadata": {},
   "source": [
    "## 1- GEO locations for current and distination"
   ]
  },
  {
   "cell_type": "code",
   "execution_count": 1,
   "metadata": {},
   "outputs": [],
   "source": [
    "# import libraries\n",
    "from geopy.geocoders import Nominatim\n",
    "import time\n",
    "from pprint import pprint\n",
    "import requests\n",
    "from ratelimiter import RateLimiter\n",
    "import geopy"
   ]
  },
  {
   "cell_type": "code",
   "execution_count": 2,
   "metadata": {},
   "outputs": [],
   "source": [
    "# set the current location from GPS Module\n",
    "#  29.414932, 30.862395\n",
    "\n",
    "global Curr_long \n",
    "global Curr_lat \n",
    "\n",
    "Curr_long = 29.414932\n",
    "Curr_lat = 30.862395\n"
   ]
  },
  {
   "cell_type": "code",
   "execution_count": 3,
   "metadata": {},
   "outputs": [],
   "source": [
    "def set_curr_location(long,lat):\n",
    "    global Curr_long \n",
    "    Curr_long = long\n",
    "    global Curr_lat\n",
    "    Curr_lat = lat\n",
    "\n",
    "def get_curr_location():\n",
    "    global Curr_long  \n",
    "    global Curr_lat\n",
    "    return Curr_long, Curr_lat    "
   ]
  },
  {
   "cell_type": "markdown",
   "metadata": {},
   "source": [
    "### Test"
   ]
  },
  {
   "cell_type": "code",
   "execution_count": 4,
   "metadata": {},
   "outputs": [],
   "source": [
    "\n",
    "set_curr_location(29.408314, 30.865541)\n",
    "#print(Curr_long )"
   ]
  },
  {
   "cell_type": "code",
   "execution_count": 5,
   "metadata": {},
   "outputs": [
    {
     "name": "stdout",
     "output_type": "stream",
     "text": [
      "29.408314\n",
      "30.865541\n",
      "29.408314\n",
      "30.865541\n"
     ]
    }
   ],
   "source": [
    "long, lat = get_curr_location()\n",
    "print(long)\n",
    "print(lat)\n",
    "# or by \n",
    "print(Curr_long)\n",
    "print(Curr_lat)"
   ]
  },
  {
   "cell_type": "markdown",
   "metadata": {},
   "source": [
    "## 2- Set distination\n"
   ]
  },
  {
   "cell_type": "code",
   "execution_count": 6,
   "metadata": {},
   "outputs": [],
   "source": [
    "# set the distination location from GPS Module\n",
    "\n",
    "global dist_long \n",
    "dist_long = 30.414932\n",
    "global dist_lat \n",
    "dist_lat = 30.862395\n",
    "\n",
    "def set_dist_location(long,lat):\n",
    "    global dist_long \n",
    "    dist_long = long\n",
    "    global dist_lat\n",
    "    dist_lat = lat\n",
    "\n",
    "def get_dist_location():\n",
    "    global dist_long  \n",
    "    global dist_lat\n",
    "    return dist_long, dist_lat    "
   ]
  },
  {
   "cell_type": "markdown",
   "metadata": {},
   "source": [
    "### Test"
   ]
  },
  {
   "cell_type": "code",
   "execution_count": 7,
   "metadata": {},
   "outputs": [],
   "source": [
    "set_dist_location(29.412674, 30.976626)"
   ]
  },
  {
   "cell_type": "code",
   "execution_count": 8,
   "metadata": {},
   "outputs": [
    {
     "name": "stdout",
     "output_type": "stream",
     "text": [
      "29.412674\n",
      "30.976626\n"
     ]
    }
   ],
   "source": [
    "long, lat = get_dist_location()\n",
    "print(long)\n",
    "print(lat)"
   ]
  },
  {
   "cell_type": "markdown",
   "metadata": {},
   "source": [
    "## 3- Using directions api"
   ]
  },
  {
   "cell_type": "code",
   "execution_count": 9,
   "metadata": {},
   "outputs": [],
   "source": [
    "def get_directions():\n",
    "    clong, clat = get_curr_location()\n",
    "    dlong, dlat = get_dist_location()\n",
    "    \n",
    "    url = \"https://trueway-directions2.p.rapidapi.com/FindDrivingPath\"\n",
    "    org =\"29.408314, 30.865541\"\n",
    "    dis =\"29.412674, 30.876626\"\n",
    "    querystring = {\"origin\": str(clong)+\",\"+ str(clat) ,\"destination\":str(dlong)+\",\"+ str(dlat)}\n",
    "\n",
    "    headers = {\n",
    "        \"X-RapidAPI-Host\": \"trueway-directions2.p.rapidapi.com\",\n",
    "        \"X-RapidAPI-Key\": \"a5c9d69029mshecf871aedf5feddp11fc8fjsn15ca8e0cec3c\"\n",
    "    }\n",
    "\n",
    "    response = requests.request(\"GET\", url, headers=headers, params=querystring)\n",
    "    \n",
    "    direc = response.text\n",
    "    dir_json = response.json()\n",
    "    list_json = dir_json['route']['steps']\n",
    "    \n",
    "    dirc_list =[]\n",
    "    dist_list =[]\n",
    "    list =[]\n",
    "  \n",
    "    for i in range(len(list_json)):\n",
    "        #print(i)\n",
    "        try:\n",
    "            if i==0:\n",
    "                dirc_list.append('forward')\n",
    "                dist_list.append(list_json[i]['distance'])\n",
    "                #list['forward']=list_json[i]['distance']\n",
    "                #print('forward')\n",
    "            else:\n",
    "                dirc_list.append(list_json[i]['maneuver'])\n",
    "                dist_list.append(list_json[i]['distance'])\n",
    "                #list[list_json[i]['maneuver']]=list_json[i]['distance']\n",
    "        except Exception as e:\n",
    "            dirc_list.append('forward')\n",
    "            dist_list.append(list_json[i]['distance'])\n",
    "            #list['forward']=list_json[i]['distance']\n",
    "    \n",
    "    list.append(dirc_list)\n",
    "    list.append(dist_list)\n",
    "\n",
    "    return list "
   ]
  },
  {
   "cell_type": "code",
   "execution_count": 10,
   "metadata": {},
   "outputs": [],
   "source": [
    "def converting_list(list):\n",
    "    \"\"\"replace the directions and all the instrations like \\\"turn right\\\"\n",
    "    and \\\"roundabout right \\\" to just 4 charactries to be sent to the embedded system \n",
    "    \"\"\"\n",
    "    new_dirc_list = []\n",
    "    new_dist_list = []\n",
    "    new_list = []\n",
    "    \n",
    "    for i in range(len(list[0])):\n",
    "        if list[0][i] =='forward':\n",
    "            new_dirc_list.append('f')\n",
    "            new_dist_list.append(list[1][i])\n",
    "            \n",
    "        elif list[0][i] =='turn right':\n",
    "            new_dirc_list.append('r')\n",
    "            new_dist_list.append(0)\n",
    "            new_dirc_list.append('f')\n",
    "            new_dist_list.append(list[1][i])\n",
    "            \n",
    "        elif list[0][i] =='turn left':\n",
    "            new_dirc_list.append('l')\n",
    "            new_dist_list.append(0)\n",
    "            new_dirc_list.append('f')\n",
    "            new_dist_list.append(list[1][i])\n",
    "            \n",
    "        elif list[0][i] =='uturn right':\n",
    "            new_dirc_list.append('r')\n",
    "            new_dist_list.append(0)\n",
    "            new_dirc_list.append('f')\n",
    "            new_dist_list.append(4)\n",
    "            new_dirc_list.append('r')\n",
    "            new_dist_list.append(0)\n",
    "            new_dirc_list.append('f')\n",
    "            new_dist_list.append(list[1][i])\n",
    "            \n",
    "        elif list[0][i] =='uturn left':\n",
    "            new_dirc_list.append('l')\n",
    "            new_dist_list.append(0)\n",
    "            new_dirc_list.append('f')\n",
    "            new_dist_list.append(4)\n",
    "            new_dirc_list.append('l')\n",
    "            new_dist_list.append(0)\n",
    "            new_dirc_list.append('f')\n",
    "            new_dist_list.append(list[1][i])\n",
    "            \n",
    "        elif list[0][i] =='roundabout right':\n",
    "            new_dirc_list.append('r')\n",
    "            new_dist_list.append(0)\n",
    "            new_dirc_list.append('f')\n",
    "            new_dist_list.append(5)\n",
    "            new_dirc_list.append('r')\n",
    "            new_dist_list.append(0)\n",
    "            new_dirc_list.append('f')\n",
    "            new_dist_list.append(list[1][i])\n",
    "            \n",
    "        elif list[0][i] =='roundabout left':\n",
    "            new_dirc_list.append('l')\n",
    "            new_dist_list.append(0)\n",
    "            new_dirc_list.append('f')\n",
    "            new_dist_list.append(5)\n",
    "            new_dirc_list.append('l')\n",
    "            new_dist_list.append(0)\n",
    "            new_dirc_list.append('f')\n",
    "            new_dist_list.append(list[1][i])\n",
    "            \n",
    "        elif list[0][i] =='turn slight right':\n",
    "            new_dirc_list.append('r')\n",
    "            new_dist_list.append(0)\n",
    "            new_dirc_list.append('f')\n",
    "            new_dist_list.append(list[1][i])\n",
    "            \n",
    "        elif list[0][i] =='turn slight left':\n",
    "            new_dirc_list.append('l')\n",
    "            new_dist_list.append(0)\n",
    "            new_dirc_list.append('f')\n",
    "            new_dist_list.append(list[1][i])\n",
    "    \n",
    "    new_list.append(new_dirc_list)\n",
    "    new_list.append(new_dist_list)\n",
    "\n",
    "    return new_list"
   ]
  },
  {
   "cell_type": "markdown",
   "metadata": {},
   "source": [
    "- uturn left => turn left 90d then go f 4m then turn left agian\n",
    "- roundabout right => turn right then go f 5m then turn right agian\n",
    "- turn slight left => turn left"
   ]
  },
  {
   "cell_type": "markdown",
   "metadata": {},
   "source": [
    "### Test"
   ]
  },
  {
   "cell_type": "code",
   "execution_count": 11,
   "metadata": {
    "scrolled": true
   },
   "outputs": [
    {
     "data": {
      "text/plain": [
       "[['forward',\n",
       "  'uturn left',\n",
       "  'turn right',\n",
       "  'roundabout right',\n",
       "  'turn right',\n",
       "  'turn right',\n",
       "  'uturn left',\n",
       "  'turn right',\n",
       "  'forward',\n",
       "  'turn right',\n",
       "  'turn left',\n",
       "  'turn left',\n",
       "  'turn right',\n",
       "  'turn left',\n",
       "  'turn left',\n",
       "  'turn right',\n",
       "  'turn slight left'],\n",
       " [68,\n",
       "  31,\n",
       "  308,\n",
       "  678,\n",
       "  448,\n",
       "  165,\n",
       "  171,\n",
       "  1131,\n",
       "  2097,\n",
       "  15,\n",
       "  286,\n",
       "  314,\n",
       "  172,\n",
       "  5700,\n",
       "  1954,\n",
       "  107,\n",
       "  22]]"
      ]
     },
     "execution_count": 11,
     "metadata": {},
     "output_type": "execute_result"
    }
   ],
   "source": [
    "list_json=get_directions()\n",
    "\n",
    "list_json\n"
   ]
  },
  {
   "cell_type": "code",
   "execution_count": 12,
   "metadata": {
    "scrolled": true
   },
   "outputs": [
    {
     "data": {
      "text/plain": [
       "[['f',\n",
       "  'l',\n",
       "  'f',\n",
       "  'l',\n",
       "  'f',\n",
       "  'r',\n",
       "  'f',\n",
       "  'r',\n",
       "  'f',\n",
       "  'r',\n",
       "  'f',\n",
       "  'r',\n",
       "  'f',\n",
       "  'r',\n",
       "  'f',\n",
       "  'l',\n",
       "  'f',\n",
       "  'l',\n",
       "  'f',\n",
       "  'r',\n",
       "  'f',\n",
       "  'f',\n",
       "  'r',\n",
       "  'f',\n",
       "  'l',\n",
       "  'f',\n",
       "  'l',\n",
       "  'f',\n",
       "  'r',\n",
       "  'f',\n",
       "  'l',\n",
       "  'f',\n",
       "  'l',\n",
       "  'f',\n",
       "  'r',\n",
       "  'f',\n",
       "  'l',\n",
       "  'f'],\n",
       " [68,\n",
       "  0,\n",
       "  4,\n",
       "  0,\n",
       "  31,\n",
       "  0,\n",
       "  308,\n",
       "  0,\n",
       "  5,\n",
       "  0,\n",
       "  678,\n",
       "  0,\n",
       "  448,\n",
       "  0,\n",
       "  165,\n",
       "  0,\n",
       "  4,\n",
       "  0,\n",
       "  171,\n",
       "  0,\n",
       "  1131,\n",
       "  2097,\n",
       "  0,\n",
       "  15,\n",
       "  0,\n",
       "  286,\n",
       "  0,\n",
       "  314,\n",
       "  0,\n",
       "  172,\n",
       "  0,\n",
       "  5700,\n",
       "  0,\n",
       "  1954,\n",
       "  0,\n",
       "  107,\n",
       "  0,\n",
       "  22]]"
      ]
     },
     "execution_count": 12,
     "metadata": {},
     "output_type": "execute_result"
    }
   ],
   "source": [
    "converting_list(list_json)"
   ]
  },
  {
   "cell_type": "code",
   "execution_count": null,
   "metadata": {},
   "outputs": [],
   "source": []
  }
 ],
 "metadata": {
  "kernelspec": {
   "display_name": "Python 3",
   "language": "python",
   "name": "python3"
  },
  "language_info": {
   "codemirror_mode": {
    "name": "ipython",
    "version": 3
   },
   "file_extension": ".py",
   "mimetype": "text/x-python",
   "name": "python",
   "nbconvert_exporter": "python",
   "pygments_lexer": "ipython3",
   "version": "3.7.6"
  }
 },
 "nbformat": 4,
 "nbformat_minor": 4
}
